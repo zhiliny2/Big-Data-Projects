{
  "nbformat": 4,
  "nbformat_minor": 0,
  "metadata": {
    "colab": {
      "provenance": [],
      "collapsed_sections": []
    },
    "kernelspec": {
      "name": "python3",
      "display_name": "Python 3"
    },
    "language_info": {
      "name": "python"
    }
  },
  "cells": [
    {
      "cell_type": "code",
      "execution_count": 1,
      "metadata": {
        "id": "CegQ28A1GrSL"
      },
      "outputs": [],
      "source": [
        "# Update environment (if needed)\n",
        "# !sudo apt update\n",
        "\n",
        "# Download and install Java\n",
        "!sudo apt-get install openjdk-8-jdk-headless -qq > /dev/null\n",
        "\n",
        "# Install Apache Spark 3.3.2 with Hadoop 3\n",
        "!wget -nc -q https://downloads.apache.org/spark/spark-3.3.1/spark-3.3.1-bin-hadoop3.tgz\n",
        "\n",
        "# Unzip the folder\n",
        "!tar xf  spark-3.3.1-bin-hadoop3.tgz\n",
        "\n",
        "# Install findspark library that will locate Spark on the system\n",
        "!pip install -q findspark"
      ]
    },
    {
      "cell_type": "code",
      "source": [
        "# Load the Drive helper and mount\n",
        "from google.colab import drive\n",
        "\n",
        "# This will prompt for authorization.\n",
        "drive.mount('/content/drive')"
      ],
      "metadata": {
        "id": "4vcoehB02Ssh",
        "colab": {
          "base_uri": "https://localhost:8080/"
        },
        "outputId": "a799c1c0-3fc6-4119-f922-4e0590b61427"
      },
      "execution_count": 2,
      "outputs": [
        {
          "output_type": "stream",
          "name": "stdout",
          "text": [
            "Drive already mounted at /content/drive; to attempt to forcibly remount, call drive.mount(\"/content/drive\", force_remount=True).\n"
          ]
        }
      ]
    },
    {
      "cell_type": "code",
      "source": [
        "# Setting the environment variables, to enable running PySpark in Colab environment.\n",
        "\n",
        "import os\n",
        "import shutil\n",
        "from itertools import islice\n",
        "import requests\n",
        "\n",
        "os.environ[\"JAVA_HOME\"] = \"/usr/lib/jvm/java-8-openjdk-amd64\"\n",
        "os.environ[\"SPARK_HOME\"] = \"/content/spark-3.2.2-bin-hadoop3.2\""
      ],
      "metadata": {
        "id": "lSEdHH96JPNN"
      },
      "execution_count": 3,
      "outputs": []
    },
    {
      "cell_type": "code",
      "source": [
        "# Locate Spark in the system\n",
        "\n",
        "import findspark\n",
        "os.environ[\"SPARK_HOME\"] = \"/content/spark-3.3.1-bin-hadoop3\"\n",
        "findspark.init()"
      ],
      "metadata": {
        "id": "N2IrRksFJQMU"
      },
      "execution_count": 4,
      "outputs": []
    },
    {
      "cell_type": "code",
      "source": [
        "from pyspark.sql import SparkSession\n",
        "from pyspark.sql.functions import *\n",
        "\n",
        "from pyspark.sql.types import *\n",
        "\n",
        "# Create spark_session\n",
        "spark = SparkSession.builder.getOrCreate()\n",
        "sc = spark.sparkContext\n",
        "\n",
        "spark.version"
      ],
      "metadata": {
        "id": "0_RPA7-wJVUv",
        "colab": {
          "base_uri": "https://localhost:8080/",
          "height": 35
        },
        "outputId": "441b4ca1-b6da-4aa7-e4fc-9997e38f0c01"
      },
      "execution_count": 5,
      "outputs": [
        {
          "output_type": "execute_result",
          "data": {
            "text/plain": [
              "'3.3.1'"
            ],
            "application/vnd.google.colaboratory.intrinsic+json": {
              "type": "string"
            }
          },
          "metadata": {},
          "execution_count": 5
        }
      ]
    },
    {
      "cell_type": "code",
      "source": [
        "def get_gcs_data (bucket_name, folder_name, file_name, path_gdrive):\n",
        "    url = 'https://storage.googleapis.com/' + bucket_name + '/' + folder_name + '/' + file_name\n",
        "    r = requests.get(url)\n",
        "    open(path_gdrive + '/' + file_name , 'wb').write(r.content)"
      ],
      "metadata": {
        "id": "Y0-X9pDMMb26"
      },
      "execution_count": 6,
      "outputs": []
    },
    {
      "cell_type": "code",
      "source": [
        "bucket_name = 'msca-bdp-data-open'\n",
        "folder_name = 'airlines'\n",
        "file_name = ['2007.csv','2008.csv']\n",
        "path_gdrive = '/content/drive/My Drive/Colab Datasets/BDP/airlines'\n",
        "\n",
        "os.makedirs(path_gdrive, exist_ok=True)\n",
        "\n",
        "for file in file_name:\n",
        "    get_gcs_data (bucket_name = bucket_name,\n",
        "                 folder_name = folder_name,\n",
        "                 file_name = file,\n",
        "                 path_gdrive = path_gdrive)\n",
        "    print('Downloaded: ' + file)"
      ],
      "metadata": {
        "id": "Jfe0X0EZMeTq",
        "colab": {
          "base_uri": "https://localhost:8080/"
        },
        "outputId": "eaf5f924-eba8-4b82-f382-72cb68b35b52"
      },
      "execution_count": 7,
      "outputs": [
        {
          "output_type": "stream",
          "name": "stdout",
          "text": [
            "Downloaded: 2007.csv\n",
            "Downloaded: 2008.csv\n"
          ]
        }
      ]
    },
    {
      "cell_type": "code",
      "source": [
        "!ls \"/content/drive/My Drive/Colab Datasets/BDP\""
      ],
      "metadata": {
        "id": "6XvRqu3LNDYr",
        "colab": {
          "base_uri": "https://localhost:8080/"
        },
        "outputId": "fdb6c9df-0d25-4187-cb70-cd3b2cd52f83"
      },
      "execution_count": 8,
      "outputs": [
        {
          "output_type": "stream",
          "name": "stdout",
          "text": [
            " airlines\t\t\t\t\t\t   gutenberg\n",
            " austin\t\t\t\t\t\t\t   insurance\n",
            "'Copy of BDP_Class_04.1_Colab_Spark_RDD_Struct_v7.ipynb'   lung\n",
            "'Copy of BDP_Class_04.2_Colab_Spark_RDD_Text_v4.ipynb'\n"
          ]
        }
      ]
    },
    {
      "cell_type": "code",
      "source": [
        "path1 = path_gdrive+'/2007.csv'\n",
        "path2 = path_gdrive+'/2008.csv'\n",
        "\n",
        "df_2007 = spark.read.csv(path1, header='true', inferSchema='true', sep=',', quote='\"')\n",
        "df_2008 = spark.read.csv(path2, header='true', inferSchema='true', sep=',', quote='\"')\n",
        "df_2007.cache()\n",
        "df_2008.cache()"
      ],
      "metadata": {
        "id": "DeyolytSNGtQ",
        "colab": {
          "base_uri": "https://localhost:8080/"
        },
        "outputId": "04af2ad0-bcd8-4455-a9aa-006983ed6cca"
      },
      "execution_count": 9,
      "outputs": [
        {
          "output_type": "execute_result",
          "data": {
            "text/plain": [
              "DataFrame[Year: int, Month: int, DayofMonth: int, DayOfWeek: int, DepTime: string, CRSDepTime: int, ArrTime: string, CRSArrTime: int, UniqueCarrier: string, FlightNum: int, TailNum: string, ActualElapsedTime: string, CRSElapsedTime: string, AirTime: string, ArrDelay: string, DepDelay: string, Origin: string, Dest: string, Distance: int, TaxiIn: string, TaxiOut: string, Cancelled: int, CancellationCode: string, Diverted: int, CarrierDelay: string, WeatherDelay: string, NASDelay: string, SecurityDelay: string, LateAircraftDelay: string]"
            ]
          },
          "metadata": {},
          "execution_count": 9
        }
      ]
    },
    {
      "cell_type": "code",
      "source": [
        "spark.conf.set(\"spark.sql.repl.eagerEval.enabled\",True)"
      ],
      "metadata": {
        "id": "kvexT9cJZnz1"
      },
      "execution_count": 10,
      "outputs": []
    },
    {
      "cell_type": "code",
      "source": [
        "df_2007.show(5)\n",
        "df_2007.printSchema()\n"
      ],
      "metadata": {
        "id": "lfBxcunoZpOA",
        "colab": {
          "base_uri": "https://localhost:8080/"
        },
        "outputId": "a49aac05-d8da-4a00-a83f-0f8c1a39172c"
      },
      "execution_count": 11,
      "outputs": [
        {
          "output_type": "stream",
          "name": "stdout",
          "text": [
            "+----+-----+----------+---------+-------+----------+-------+----------+-------------+---------+-------+-----------------+--------------+-------+--------+--------+------+----+--------+------+-------+---------+----------------+--------+------------+------------+--------+-------------+-----------------+\n",
            "|Year|Month|DayofMonth|DayOfWeek|DepTime|CRSDepTime|ArrTime|CRSArrTime|UniqueCarrier|FlightNum|TailNum|ActualElapsedTime|CRSElapsedTime|AirTime|ArrDelay|DepDelay|Origin|Dest|Distance|TaxiIn|TaxiOut|Cancelled|CancellationCode|Diverted|CarrierDelay|WeatherDelay|NASDelay|SecurityDelay|LateAircraftDelay|\n",
            "+----+-----+----------+---------+-------+----------+-------+----------+-------------+---------+-------+-----------------+--------------+-------+--------+--------+------+----+--------+------+-------+---------+----------------+--------+------------+------------+--------+-------------+-----------------+\n",
            "|2007|    1|         1|        1|   1232|      1225|   1341|      1340|           WN|     2891|   N351|               69|            75|     54|       1|       7|   SMF| ONT|     389|     4|     11|        0|            null|       0|           0|           0|       0|            0|                0|\n",
            "|2007|    1|         1|        1|   1918|      1905|   2043|      2035|           WN|      462|   N370|               85|            90|     74|       8|      13|   SMF| PDX|     479|     5|      6|        0|            null|       0|           0|           0|       0|            0|                0|\n",
            "|2007|    1|         1|        1|   2206|      2130|   2334|      2300|           WN|     1229|   N685|               88|            90|     73|      34|      36|   SMF| PDX|     479|     6|      9|        0|            null|       0|           3|           0|       0|            0|               31|\n",
            "|2007|    1|         1|        1|   1230|      1200|   1356|      1330|           WN|     1355|   N364|               86|            90|     75|      26|      30|   SMF| PDX|     479|     3|      8|        0|            null|       0|          23|           0|       0|            0|                3|\n",
            "|2007|    1|         1|        1|    831|       830|    957|      1000|           WN|     2278|   N480|               86|            90|     74|      -3|       1|   SMF| PDX|     479|     3|      9|        0|            null|       0|           0|           0|       0|            0|                0|\n",
            "+----+-----+----------+---------+-------+----------+-------+----------+-------------+---------+-------+-----------------+--------------+-------+--------+--------+------+----+--------+------+-------+---------+----------------+--------+------------+------------+--------+-------------+-----------------+\n",
            "only showing top 5 rows\n",
            "\n",
            "root\n",
            " |-- Year: integer (nullable = true)\n",
            " |-- Month: integer (nullable = true)\n",
            " |-- DayofMonth: integer (nullable = true)\n",
            " |-- DayOfWeek: integer (nullable = true)\n",
            " |-- DepTime: string (nullable = true)\n",
            " |-- CRSDepTime: integer (nullable = true)\n",
            " |-- ArrTime: string (nullable = true)\n",
            " |-- CRSArrTime: integer (nullable = true)\n",
            " |-- UniqueCarrier: string (nullable = true)\n",
            " |-- FlightNum: integer (nullable = true)\n",
            " |-- TailNum: string (nullable = true)\n",
            " |-- ActualElapsedTime: string (nullable = true)\n",
            " |-- CRSElapsedTime: string (nullable = true)\n",
            " |-- AirTime: string (nullable = true)\n",
            " |-- ArrDelay: string (nullable = true)\n",
            " |-- DepDelay: string (nullable = true)\n",
            " |-- Origin: string (nullable = true)\n",
            " |-- Dest: string (nullable = true)\n",
            " |-- Distance: integer (nullable = true)\n",
            " |-- TaxiIn: integer (nullable = true)\n",
            " |-- TaxiOut: integer (nullable = true)\n",
            " |-- Cancelled: integer (nullable = true)\n",
            " |-- CancellationCode: string (nullable = true)\n",
            " |-- Diverted: integer (nullable = true)\n",
            " |-- CarrierDelay: integer (nullable = true)\n",
            " |-- WeatherDelay: integer (nullable = true)\n",
            " |-- NASDelay: integer (nullable = true)\n",
            " |-- SecurityDelay: integer (nullable = true)\n",
            " |-- LateAircraftDelay: integer (nullable = true)\n",
            "\n"
          ]
        }
      ]
    },
    {
      "cell_type": "code",
      "source": [
        "\n",
        "# Filtering the dataset\n",
        "df_2007_dep = df_2007.filter((df_2007['DepDelay'].isNotNull()) & (df_2007['DepDelay'] >0))\n",
        "df_2008_dep = df_2008.filter((df_2008['DepDelay'].isNotNull()) & (df_2008['DepDelay'] >0))\n",
        "\n",
        "df_2007_arr = df_2007.filter((df_2007['ArrDelay'].isNotNull()) & (df_2007['ArrDelay'] >0))\n",
        "df_2008_arr = df_2008.filter((df_2008['ArrDelay'].isNotNull()) & (df_2008['ArrDelay'] >0))\n",
        "\n"
      ],
      "metadata": {
        "id": "2n724qmRM_Ck"
      },
      "execution_count": 29,
      "outputs": []
    },
    {
      "cell_type": "markdown",
      "source": [
        "**Q1.** Calculate the worst Delay: Which locations (Origin and Dest pairs) had the worst delays for both arrivals (ArrDelay) and departures (DepDelay) - for each year\n",
        "\n",
        "**Q2.** Calculate the fewest Delay: Which locations had fewest delays."
      ],
      "metadata": {
        "id": "oRPpMaF-ehk3"
      }
    },
    {
      "cell_type": "code",
      "source": [
        "\n",
        "df_2007_depdelay = df_2007_dep.groupby('Origin', 'Dest').agg(avg('DepDelay')).withColumnRenamed('avg(DepDelay)','dep_delay_n')\n",
        "df_2008_depdelay = df_2008_dep.groupby('Origin', 'Dest').agg(avg('DepDelay')).withColumnRenamed('avg(DepDelay)','dep_delay_n')\n",
        "\n",
        "df_2007_arrdelay = df_2007_arr.groupby('Origin', 'Dest').agg(avg('ArrDelay')).withColumnRenamed('avg(ArrDelay)','arr_delay_n')\n",
        "df_2008_arrdelay = df_2008_arr.groupby('Origin', 'Dest').agg(avg('ArrDelay')).withColumnRenamed('avg(ArrDelay)','arr_delay_n')\n",
        "\n",
        "#Join the depdelay and arrdelay table together\n",
        "\n",
        "delay_2007 = df_2007_depdelay.join(df_2007_arrdelay,\\\n",
        "                                   [df_2007_depdelay['Origin'] == df_2007_arrdelay['Origin'],\\\n",
        "                                    df_2007_depdelay['Dest'] == df_2007_depdelay['Dest']],'inner')\n",
        "\n",
        "\n",
        "delay_2008 = df_2008_depdelay.join(df_2008_arrdelay,\\\n",
        "                                   [df_2008_depdelay['Origin'] == df_2008_arrdelay['Origin'],\\\n",
        "                                    df_2008_depdelay['Dest'] == df_2008_depdelay['Dest']],'inner')\n",
        "totaldelay_2007 = delay_2007.withColumn('total_delay',delay_2007['dep_delay_n']+delay_2007['arr_delay_n'])\n",
        "totaldelay_2008 = delay_2008.withColumn('total_delay',delay_2008['dep_delay_n']+delay_2008['arr_delay_n'])\n",
        "\n",
        "\n",
        "\n",
        "\n",
        "totaldelay_2007_dec = totaldelay_2007.orderBy('total_delay',ascending = False)\n",
        "totaldelay_2008_dec = totaldelay_2008.orderBy('total_delay',ascending = False)\n",
        "totaldelay_2007_asc = totaldelay_2007.orderBy('total_delay',ascending = True)\n",
        "totaldelay_2008_asc = totaldelay_2008.orderBy('total_delay',ascending = True)\n",
        "totaldelay_2007_dec.show(5)\n",
        "totaldelay_2008_dec.show(5)\n",
        "totaldelay_2007_asc.show(5)\n",
        "totaldelay_2008_asc.show(5)\n"
      ],
      "metadata": {
        "id": "Be2YXrbIedbr",
        "colab": {
          "base_uri": "https://localhost:8080/"
        },
        "outputId": "5ccc314e-4828-4433-ed88-321daeb8acd1"
      },
      "execution_count": 13,
      "outputs": [
        {
          "output_type": "stream",
          "name": "stdout",
          "text": [
            "+------+----+-----------+------+----+-----------+-----------+\n",
            "|Origin|Dest|dep_delay_n|Origin|Dest|arr_delay_n|total_delay|\n",
            "+------+----+-----------+------+----+-----------+-----------+\n",
            "|   ONT| IAD|      386.0|   ONT| IAD|      370.0|      756.0|\n",
            "|   ELP| MFE|      307.0|   ELP| MFE|      316.0|      623.0|\n",
            "|   SLC| KOA|      317.5|   SLC| KOA|      246.0|      563.5|\n",
            "|   ACY| MYR|      222.0|   ACY| MYR|      252.0|      474.0|\n",
            "|   AVP| BUF|      201.0|   AVP| BUF|      195.0|      396.0|\n",
            "+------+----+-----------+------+----+-----------+-----------+\n",
            "only showing top 5 rows\n",
            "\n",
            "+------+----+-----------+------+----+-----------+-----------+\n",
            "|Origin|Dest|dep_delay_n|Origin|Dest|arr_delay_n|total_delay|\n",
            "+------+----+-----------+------+----+-----------+-----------+\n",
            "|   CMI| SPI|      587.0|   CMI| SPI|      575.0|     1162.0|\n",
            "|   ROA| CVG|      255.0|   ROA| CVG|      245.0|      500.0|\n",
            "|   ONT| SAN|      221.0|   ONT| SAN|      257.0|      478.0|\n",
            "|   BHM| JFK|      210.0|   BHM| JFK|      252.0|      462.0|\n",
            "|   RIC| ORF|      205.0|   RIC| ORF|      227.0|      432.0|\n",
            "+------+----+-----------+------+----+-----------+-----------+\n",
            "only showing top 5 rows\n",
            "\n",
            "+------+----+-----------+------+----+-----------------+-----------------+\n",
            "|Origin|Dest|dep_delay_n|Origin|Dest|      arr_delay_n|      total_delay|\n",
            "+------+----+-----------+------+----+-----------------+-----------------+\n",
            "|   ITO| OGG|        5.0|   ITO| OGG|4.151515151515151|9.151515151515152|\n",
            "|   DAY| LAS|        2.0|   DAY| LAS|            8.125|           10.125|\n",
            "|   RIC| BWI|       10.0|   RIC| BWI|              1.0|             11.0|\n",
            "|   LAX| PMD|        3.0|   LAX| PMD|              8.0|             11.0|\n",
            "|   MKE| MKC|        1.0|   MKE| MKC|             12.0|             13.0|\n",
            "+------+----+-----------+------+----+-----------------+-----------------+\n",
            "only showing top 5 rows\n",
            "\n",
            "+------+----+-----------+------+----+-----------+-----------+\n",
            "|Origin|Dest|dep_delay_n|Origin|Dest|arr_delay_n|total_delay|\n",
            "+------+----+-----------+------+----+-----------+-----------+\n",
            "|   BUR| PMD|        1.0|   BUR| PMD|        1.0|        2.0|\n",
            "|   MCO| OKC|        1.0|   MCO| OKC|        4.0|        5.0|\n",
            "|   CLE| TUL|        5.0|   CLE| TUL|        1.0|        6.0|\n",
            "|   CMH| PBI|        7.0|   CMH| PBI|        1.0|        8.0|\n",
            "|   ACY| JFK|        3.0|   ACY| JFK|        5.0|        8.0|\n",
            "+------+----+-----------+------+----+-----------+-----------+\n",
            "only showing top 5 rows\n",
            "\n"
          ]
        }
      ]
    },
    {
      "cell_type": "markdown",
      "source": [
        "**Q1** Answer: In 2017: ONT-IAD has the worst delay. In 2018: CMI-SPI has the worst delay.\n",
        "\n",
        "**Q2** Answer: In 2017: ITO-OGG has the fewest delay. In 2018: BUR-PMD has the fewest delay."
      ],
      "metadata": {
        "id": "m3wCtDp1q82H"
      }
    },
    {
      "cell_type": "markdown",
      "source": [
        "**Q3** Do you see any significant seasonality effects for delays"
      ],
      "metadata": {
        "id": "J8AbkstP3r9t"
      }
    },
    {
      "cell_type": "code",
      "source": [
        "#Filtering the dataset\n",
        "df_2007_dep = df_2007.filter((df_2007['DepDelay'].isNotNull()) & (df_2007['DepDelay'] >0))\n",
        "df_2008_dep = df_2008.filter((df_2008['DepDelay'].isNotNull()) & (df_2008['DepDelay'] >0))\n",
        "df_2007_arr = df_2007.filter((df_2007['ArrDelay'].isNotNull()) & (df_2007['ArrDelay'] >0))\n",
        "df_2008_arr = df_2008.filter((df_2008['ArrDelay'].isNotNull()) & (df_2008['ArrDelay'] >0))\n",
        "\n",
        "df_2007_dep_month = df_2007_dep.groupby('Month').agg(avg('DepDelay').alias('bymonthdelaydep')).orderBy('Month',ascending = True).toPandas()\n",
        "df_2007_arr_month = df_2007_arr.groupby('Month').agg(avg('ArrDelay').alias('bymonthdelay')).orderBy('Month',ascending = True).toPandas()\n",
        "df_2008_dep_month = df_2008_dep.groupby('Month').agg(avg('DepDelay').alias('bymonthdelaydep')).orderBy('Month',ascending = True).toPandas()\n",
        "df_2008_arr_month = df_2008_arr.groupby('Month').agg(avg('ArrDelay').alias('bymonthdelay')).orderBy('Month',ascending = True).toPandas()\n",
        "\n",
        "\n",
        "df_2007_month = df_2007_dep_month.merge(df_2007_arr_month,on = 'Month',how = 'inner')\n",
        "df_2008_month = df_2008_dep_month.merge(df_2008_arr_month,on = 'Month',how = 'inner')\n",
        "df_2007_month['2007monthdelay'] = df_2007_month.bymonthdelaydep + df_2007_month.bymonthdelay\n",
        "df_2008_month['2008monthdelay'] = df_2008_month.bymonthdelaydep + df_2008_month.bymonthdelay\n"
      ],
      "metadata": {
        "id": "qENeF-P43ves"
      },
      "execution_count": 14,
      "outputs": []
    },
    {
      "cell_type": "code",
      "source": [
        "df_month_plot = df_2007_month[['Month','2007monthdelay']]\n",
        "df_month_plot = df_2007_month.set_index('Month')\n",
        "df_month_plot['2008monthdelay'] =  df_2008_month['2008monthdelay']\n",
        "\n",
        "df_month_plot = df_month_plot[['2007monthdelay','2008monthdelay']]\n",
        "df_month_plot.plot()\n",
        "\n"
      ],
      "metadata": {
        "id": "zTpOInunY0Wk",
        "colab": {
          "base_uri": "https://localhost:8080/",
          "height": 298
        },
        "outputId": "32372b13-c447-4fd8-8257-a72acec2e0f8"
      },
      "execution_count": 16,
      "outputs": [
        {
          "output_type": "execute_result",
          "data": {
            "text/plain": [
              "<matplotlib.axes._subplots.AxesSubplot at 0x7f4d158eff50>"
            ]
          },
          "metadata": {},
          "execution_count": 16
        },
        {
          "output_type": "display_data",
          "data": {
            "text/plain": [
              "<Figure size 432x288 with 1 Axes>"
            ],
            "image/png": "[encoded data removed]"
          },
          "metadata": {
            "needs_background": "light"
          }
        }
      ]
    },
    {
      "cell_type": "markdown",
      "source": [
        "**Q3 Answer:** As we can see from the above plot:\n",
        "In 2007: June and December have much higher average delay while September has the lowest average delay. \n",
        "\n",
        "In 2008, May, June November and December have much higher average delay while the September has the lowest average delay.  \n",
        "\n",
        "Therefore, we can conclude that the average delay tends to reach higher in May and June, and went down to the lowest in Sepetemer, and then reach higher again in winter"
      ],
      "metadata": {
        "id": "eRWe1DReme0o"
      }
    },
    {
      "cell_type": "markdown",
      "source": [
        "**Q4**.Do you see any increase or decrease in delays on weekends?"
      ],
      "metadata": {
        "id": "vKoRX79Ta_nl"
      }
    },
    {
      "cell_type": "code",
      "source": [
        "#Filtering\n",
        "df_2007_dep = df_2007.filter((df_2007['DepDelay'].isNotNull()) & (df_2007['DepDelay'] >0))\n",
        "df_2008_dep = df_2008.filter((df_2008['DepDelay'].isNotNull()) & (df_2008['DepDelay'] >0))\n",
        "df_2007_arr = df_2007.filter((df_2007['ArrDelay'].isNotNull()) & (df_2007['ArrDelay'] >0))\n",
        "df_2008_arr = df_2008.filter((df_2008['ArrDelay'].isNotNull()) & (df_2008['ArrDelay'] >0))\n",
        "\n",
        "df_2007_dep_DayOfWeek = df_2007_dep.groupby('DayOfWeek').agg(avg('DepDelay').alias('byDayOfWeekdelaydep')).orderBy('DayOfWeek',ascending = True).toPandas()\n",
        "df_2007_arr_DayOfWeek = df_2007_arr.groupby('DayOfWeek').agg(avg('ArrDelay').alias('byDayOfWeekdelay')).orderBy('DayOfWeek',ascending = True).toPandas()\n",
        "df_2008_dep_DayOfWeek = df_2008_dep.groupby('DayOfWeek').agg(avg('DepDelay').alias('byDayOfWeekdelaydep')).orderBy('DayOfWeek',ascending = True).toPandas()\n",
        "df_2008_arr_DayOfWeek = df_2008_arr.groupby('DayOfWeek').agg(avg('ArrDelay').alias('byDayOfWeekdelay')).orderBy('DayOfWeek',ascending = True).toPandas()\n",
        "\n",
        "\n",
        "df_2007_DayOfWeek = df_2007_dep_DayOfWeek.merge(df_2007_arr_DayOfWeek,on = 'DayOfWeek',how = 'inner')\n",
        "df_2008_DayOfWeek = df_2008_dep_DayOfWeek.merge(df_2008_arr_DayOfWeek,on = 'DayOfWeek',how = 'inner')\n",
        "df_2007_DayOfWeek['2007DayOfWeekdelay'] = df_2007_DayOfWeek.byDayOfWeekdelaydep + df_2007_DayOfWeek.byDayOfWeekdelay\n",
        "df_2008_DayOfWeek['2008DayOfWeekdelay'] = df_2008_DayOfWeek.byDayOfWeekdelaydep + df_2008_DayOfWeek.byDayOfWeekdelay\n"
      ],
      "metadata": {
        "id": "tXPgm-WCpf3I"
      },
      "execution_count": 17,
      "outputs": []
    },
    {
      "cell_type": "code",
      "source": [
        "df_DayOfWeek_plot = df_2007_DayOfWeek[['DayOfWeek','2007DayOfWeekdelay']]\n",
        "df_DayOfWeek_plot = df_2007_DayOfWeek.set_index('DayOfWeek')\n",
        "df_DayOfWeek_plot['2008DayOfWeekdelay'] =  df_2008_DayOfWeek['2008DayOfWeekdelay']\n",
        "\n",
        "df_DayOfWeek_plot = df_DayOfWeek_plot[['2007DayOfWeekdelay','2008DayOfWeekdelay']]\n",
        "df_DayOfWeek_plot.plot()\n"
      ],
      "metadata": {
        "id": "lwBRKzqRclBx",
        "colab": {
          "base_uri": "https://localhost:8080/",
          "height": 296
        },
        "outputId": "78d0144a-a8d2-4bea-826d-14aa807a5ac9"
      },
      "execution_count": 18,
      "outputs": [
        {
          "output_type": "execute_result",
          "data": {
            "text/plain": [
              "<matplotlib.axes._subplots.AxesSubplot at 0x7f4d15336090>"
            ]
          },
          "metadata": {},
          "execution_count": 18
        },
        {
          "output_type": "display_data",
          "data": {
            "text/plain": [
              "<Figure size 432x288 with 1 Axes>"
            ],
            "image/png": "[encoded data removed]"
          },
          "metadata": {
            "needs_background": "light"
          }
        }
      ]
    },
    {
      "cell_type": "markdown",
      "source": [
        "**Q4 Answer**: As we can see from the above plot:\n",
        "both of these two years have similar trends in different days of the week: the average delay is low in Tuesday, but climb higher on Thursday and the weekends as well"
      ],
      "metadata": {
        "id": "wMYnsGgVpFJY"
      }
    },
    {
      "cell_type": "markdown",
      "source": [
        "**Q5**.Are flights equally distributed throughout the day?\n",
        "Plot the distribution of DepTime, ArrTime (actual departure and arrival time\n"
      ],
      "metadata": {
        "id": "9Ac0sZTwdlg8"
      }
    },
    {
      "cell_type": "code",
      "source": [
        "!pip install pyspark-dist-explore\n",
        "from pyspark_dist_explore import hist\n",
        "import matplotlib.pyplot as plt\n",
        "\n"
      ],
      "metadata": {
        "id": "VP0c4aVMzh1i",
        "colab": {
          "base_uri": "https://localhost:8080/"
        },
        "outputId": "9d0b6439-e0f9-4311-89cf-982eae34d088"
      },
      "execution_count": 19,
      "outputs": [
        {
          "output_type": "stream",
          "name": "stdout",
          "text": [
            "Looking in indexes: https://pypi.org/simple, https://us-python.pkg.dev/colab-wheels/public/simple/\n",
            "Requirement already satisfied: pyspark-dist-explore in /usr/local/lib/python3.7/dist-packages (0.1.8)\n",
            "Requirement already satisfied: pandas in /usr/local/lib/python3.7/dist-packages (from pyspark-dist-explore) (1.3.5)\n",
            "Requirement already satisfied: matplotlib in /usr/local/lib/python3.7/dist-packages (from pyspark-dist-explore) (3.2.2)\n",
            "Requirement already satisfied: numpy in /usr/local/lib/python3.7/dist-packages (from pyspark-dist-explore) (1.21.6)\n",
            "Requirement already satisfied: scipy in /usr/local/lib/python3.7/dist-packages (from pyspark-dist-explore) (1.7.3)\n",
            "Requirement already satisfied: pyparsing!=2.0.4,!=2.1.2,!=2.1.6,>=2.0.1 in /usr/local/lib/python3.7/dist-packages (from matplotlib->pyspark-dist-explore) (3.0.9)\n",
            "Requirement already satisfied: kiwisolver>=1.0.1 in /usr/local/lib/python3.7/dist-packages (from matplotlib->pyspark-dist-explore) (1.4.4)\n",
            "Requirement already satisfied: cycler>=0.10 in /usr/local/lib/python3.7/dist-packages (from matplotlib->pyspark-dist-explore) (0.11.0)\n",
            "Requirement already satisfied: python-dateutil>=2.1 in /usr/local/lib/python3.7/dist-packages (from matplotlib->pyspark-dist-explore) (2.8.2)\n",
            "Requirement already satisfied: typing-extensions in /usr/local/lib/python3.7/dist-packages (from kiwisolver>=1.0.1->matplotlib->pyspark-dist-explore) (4.1.1)\n",
            "Requirement already satisfied: six>=1.5 in /usr/local/lib/python3.7/dist-packages (from python-dateutil>=2.1->matplotlib->pyspark-dist-explore) (1.15.0)\n",
            "Requirement already satisfied: pytz>=2017.3 in /usr/local/lib/python3.7/dist-packages (from pandas->pyspark-dist-explore) (2022.5)\n"
          ]
        }
      ]
    },
    {
      "cell_type": "code",
      "source": [
        "#Plot for 2007 Departure\n",
        "df5 = df_2007.filter(df_2007['DepTime'].isNotNull()).select(df_2007['DepTime'])\n",
        "df5 = df5.withColumn('DepTime',df5['DepTime'].cast(IntegerType()))\n",
        "\n",
        "bins , avg = df5.rdd.flatMap(lambda x:x).histogram(24)\n",
        "plt.hist(bins[:-1], bins=bins, weights=avg)\n",
        "plt.title('2007 DepTime Frequency Plot')\n",
        "\n"
      ],
      "metadata": {
        "id": "_wTxxoAm1KaZ",
        "colab": {
          "base_uri": "https://localhost:8080/",
          "height": 298
        },
        "outputId": "8533d650-2afa-46af-e993-b195fa91e2c9"
      },
      "execution_count": 20,
      "outputs": [
        {
          "output_type": "execute_result",
          "data": {
            "text/plain": [
              "Text(0.5, 1.0, '2007 DepTime Frequency Plot')"
            ]
          },
          "metadata": {},
          "execution_count": 20
        },
        {
          "output_type": "display_data",
          "data": {
            "text/plain": [
              "<Figure size 432x288 with 1 Axes>"
            ],
            "image/png": "[encoded data removed]"
          },
          "metadata": {
            "needs_background": "light"
          }
        }
      ]
    },
    {
      "cell_type": "code",
      "source": [
        "#Plot for 2007 Arrival Time\n",
        "df51 = df_2007.filter(df_2007['ArrTime'].isNotNull()).select(df_2007['ArrTime'])\n",
        "df51 = df51.withColumn('ArrTime',df51['ArrTime'].cast(IntegerType()))\n",
        "\n",
        "bins , avg = df51.rdd.flatMap(lambda x:x).histogram(24)\n",
        "plt.hist(bins[:-1], bins=bins, weights=avg)\n",
        "plt.title('2008 ArrTime Frequency Plot')"
      ],
      "metadata": {
        "id": "SQ7ljFsCwBKB",
        "colab": {
          "base_uri": "https://localhost:8080/",
          "height": 298
        },
        "outputId": "5b7361eb-8607-4911-f0dd-fc4af73d1f54"
      },
      "execution_count": 21,
      "outputs": [
        {
          "output_type": "execute_result",
          "data": {
            "text/plain": [
              "Text(0.5, 1.0, '2008 ArrTime Frequency Plot')"
            ]
          },
          "metadata": {},
          "execution_count": 21
        },
        {
          "output_type": "display_data",
          "data": {
            "text/plain": [
              "<Figure size 432x288 with 1 Axes>"
            ],
            "image/png": "[encoded data removed]"
          },
          "metadata": {
            "needs_background": "light"
          }
        }
      ]
    },
    {
      "cell_type": "code",
      "source": [
        "#Plot for 2008 Departure\n",
        "df52 = df_2008.filter(df_2008['DepTime'].isNotNull()).select(df_2008['DepTime'])\n",
        "df52 = df52.withColumn('DepTime',df52['DepTime'].cast(IntegerType()))\n",
        "\n",
        "bins , avg = df52.rdd.flatMap(lambda x:x).histogram(24)\n",
        "plt.hist(bins[:-1], bins=bins, weights=avg)\n",
        "plt.title('2008 DepTime Frequency Plot')\n"
      ],
      "metadata": {
        "id": "w3PwBT8mtliy",
        "colab": {
          "base_uri": "https://localhost:8080/",
          "height": 298
        },
        "outputId": "81f392d5-5e30-454e-ed51-e8b5a0b43faf"
      },
      "execution_count": 22,
      "outputs": [
        {
          "output_type": "execute_result",
          "data": {
            "text/plain": [
              "Text(0.5, 1.0, '2008 DepTime Frequency Plot')"
            ]
          },
          "metadata": {},
          "execution_count": 22
        },
        {
          "output_type": "display_data",
          "data": {
            "text/plain": [
              "<Figure size 432x288 with 1 Axes>"
            ],
            "image/png": "[encoded data removed]"
          },
          "metadata": {
            "needs_background": "light"
          }
        }
      ]
    },
    {
      "cell_type": "code",
      "source": [
        "#Plot for 2007 Arrival Time\n",
        "df53 = df_2007.filter(df_2007['ArrTime'].isNotNull()).select(df_2007['ArrTime'])\n",
        "df53 = df53.withColumn('ArrTime',df53['ArrTime'].cast(IntegerType()))\n",
        "\n",
        "bins , avg = df53.rdd.flatMap(lambda x:x).histogram(24)\n",
        "plt.hist(bins[:-1], bins=bins, weights=avg)\n",
        "plt.title('2008 ArrTime Frequency Plot')"
      ],
      "metadata": {
        "colab": {
          "base_uri": "https://localhost:8080/",
          "height": 298
        },
        "id": "eBuHcxel4EkD",
        "outputId": "ea32f50a-092c-4da6-9cd5-88fafe3b34af"
      },
      "execution_count": 23,
      "outputs": [
        {
          "output_type": "execute_result",
          "data": {
            "text/plain": [
              "Text(0.5, 1.0, '2008 ArrTime Frequency Plot')"
            ]
          },
          "metadata": {},
          "execution_count": 23
        },
        {
          "output_type": "display_data",
          "data": {
            "text/plain": [
              "<Figure size 432x288 with 1 Axes>"
            ],
            "image/png": "[encoded data removed]"
          },
          "metadata": {
            "needs_background": "light"
          }
        }
      ]
    },
    {
      "cell_type": "markdown",
      "source": [
        "**Q5 Answer:** As we can see from the four histogram plots above, it is not equally distributed throughout the day. Typically the airpot experience a relatively high delay value from 6am to 10pm, while the rest of the day normally has a quite low delay value in both 2007 and 2008"
      ],
      "metadata": {
        "id": "2gGmO8j5yveU"
      }
    },
    {
      "cell_type": "markdown",
      "source": [
        "\n",
        "**Q6** Do you see the worst delays at any certain times of the day?\n",
        " Compare DepTime, ArrTime with CRSDepTime, CRSArrTime (scheduled arrival and departure time; CRS is the Computer Reservation System)"
      ],
      "metadata": {
        "id": "BNqj1WLh4NGg"
      }
    },
    {
      "cell_type": "code",
      "source": [
        "#Filtering\n",
        "df_2007_dep_6 = df_2007_dep.filter(df_2007_dep['CRSDepTime'].isNotNull())\n",
        "df_2007_arr_6 = df_2007_arr.filter(df_2007_arr['CRSDepTime'].isNotNull())\n",
        "df_2008_dep_6 = df_2008_dep.filter(df_2008_dep['CRSDepTime'].isNotNull())\n",
        "df_2008_arr_6 = df_2008_arr.filter(df_2008_arr['CRSDepTime'].isNotNull())\n",
        "\n"
      ],
      "metadata": {
        "id": "FaNMvuVn4UqX"
      },
      "execution_count": 24,
      "outputs": []
    },
    {
      "cell_type": "code",
      "source": [
        "#2007 departure delay\n",
        "df_2007_dep_6 = df_2007_dep_6.withColumn('Interval_of_Departure',\n",
        "                                         when(col('CRSDepTime') < 200,'02').\n",
        "                                         when(col('CRSDepTime') < 400,'04').\\\n",
        "                                         when(col('CRSDepTime') < 600,'06').\\\n",
        "                                         when(col('CRSDepTime') < 800,'08').\\\n",
        "                                         when(col('CRSDepTime') < 1000,'10').\\\n",
        "                                         when(col('CRSDepTime') < 1200,'12').\\\n",
        "                                         when(col('CRSDepTime') < 1400,'14').\\\n",
        "                                         when(col('CRSDepTime') < 1600,'16').\\\n",
        "                                         when(col('CRSDepTime') < 1800,'18').\\\n",
        "                                         when(col('CRSDepTime') < 2000,'20').\\\n",
        "                                         when(col('CRSDepTime') < 2200,'22').\\\n",
        "                                         when(col('CRSDepTime') < 2400,'24')).select('Interval_of_Departure')\n",
        "             \n",
        "\n",
        "df_2007_dep_6 = df_2007_dep_6.groupby('Interval_of_Departure').agg(count(df_2007_dep_6['Interval_of_Departure']).alias('delaycount'))\n",
        "df_2007_dep_6 = df_2007_dep_6.orderBy('Interval_of_Departure',ascending = True)\n",
        "df_2007_dep_6= df_2007_dep_6.toPandas()   \n",
        "df_2007_dep_6.plot(kind='bar',x='Interval_of_Departure', y='delaycount', legend=None, title=\"Count of Departure Delays per two hours in 2007\")\n",
        "\n"
      ],
      "metadata": {
        "id": "7l_-sV7IPfar",
        "colab": {
          "base_uri": "https://localhost:8080/",
          "height": 316
        },
        "outputId": "0e597998-06a9-4e18-a4ec-10e681bf4cd6"
      },
      "execution_count": 25,
      "outputs": [
        {
          "output_type": "execute_result",
          "data": {
            "text/plain": [
              "<matplotlib.axes._subplots.AxesSubplot at 0x7f4d0f0d8a90>"
            ]
          },
          "metadata": {},
          "execution_count": 25
        },
        {
          "output_type": "display_data",
          "data": {
            "text/plain": [
              "<Figure size 432x288 with 1 Axes>"
            ],
            "image/png": "[encoded data removed]"
          },
          "metadata": {
            "needs_background": "light"
          }
        }
      ]
    },
    {
      "cell_type": "code",
      "source": [
        "#2007 Arrival delay\n",
        "\n",
        "df_2007_arr_6 = df_2007_arr_6.withColumn('Interval_of_Arrival',\n",
        "                                         when(col('CRSDepTime') < 200,'02').\n",
        "                                         when(col('CRSDepTime') < 400,'04').\\\n",
        "                                         when(col('CRSDepTime') < 600,'06').\\\n",
        "                                         when(col('CRSDepTime') < 800,'08').\\\n",
        "                                         when(col('CRSDepTime') < 1000,'10').\\\n",
        "                                         when(col('CRSDepTime') < 1200,'12').\\\n",
        "                                         when(col('CRSDepTime') < 1400,'14').\\\n",
        "                                         when(col('CRSDepTime') < 1600,'16').\\\n",
        "                                         when(col('CRSDepTime') < 1800,'18').\\\n",
        "                                         when(col('CRSDepTime') < 2000,'20').\\\n",
        "                                         when(col('CRSDepTime') < 2200,'22').\\\n",
        "                                         when(col('CRSDepTime') < 2400,'24')).select('Interval_of_Arrival')\n",
        "df_2007_arr_6 = df_2007_arr_6.groupby('Interval_of_Arrival').agg(count(df_2007_arr_6['Interval_of_Arrival']).alias('delaycount'))\n",
        "df_2007_arr_6 = df_2007_arr_6.orderBy('Interval_of_Arrival',ascending = True)\n",
        "df_2007_arr_6= df_2007_arr_6.toPandas()   \n",
        "df_2007_arr_6.plot(kind='bar',x='Interval_of_Arrival', y='delaycount', legend=None, title=\"Count of Arrival Delays per two hours in 2007\")           \n"
      ],
      "metadata": {
        "id": "HjNVaGHv47l6",
        "colab": {
          "base_uri": "https://localhost:8080/",
          "height": 316
        },
        "outputId": "1c1cb6ed-becb-48b5-f8e4-ae9a6d2ce16e"
      },
      "execution_count": 26,
      "outputs": [
        {
          "output_type": "execute_result",
          "data": {
            "text/plain": [
              "<matplotlib.axes._subplots.AxesSubplot at 0x7f4d0f03a350>"
            ]
          },
          "metadata": {},
          "execution_count": 26
        },
        {
          "output_type": "display_data",
          "data": {
            "text/plain": [
              "<Figure size 432x288 with 1 Axes>"
            ],
            "image/png": "[encoded data removed]"
          },
          "metadata": {
            "needs_background": "light"
          }
        }
      ]
    },
    {
      "cell_type": "code",
      "source": [
        "#2008 departure delay\n",
        "df_2008_dep_6 = df_2008_dep_6.withColumn('Interval_of_Departure',\n",
        "                                         when(col('CRSDepTime') < 200,'02').\n",
        "                                         when(col('CRSDepTime') < 400,'04').\\\n",
        "                                         when(col('CRSDepTime') < 600,'06').\\\n",
        "                                         when(col('CRSDepTime') < 800,'08').\\\n",
        "                                         when(col('CRSDepTime') < 1000,'10').\\\n",
        "                                         when(col('CRSDepTime') < 1200,'12').\\\n",
        "                                         when(col('CRSDepTime') < 1400,'14').\\\n",
        "                                         when(col('CRSDepTime') < 1600,'16').\\\n",
        "                                         when(col('CRSDepTime') < 1800,'18').\\\n",
        "                                         when(col('CRSDepTime') < 2000,'20').\\\n",
        "                                         when(col('CRSDepTime') < 2200,'22').\\\n",
        "                                         when(col('CRSDepTime') < 2400,'24')).select('Interval_of_Departure')\n",
        "             \n",
        "\n",
        "df_2008_dep_6 = df_2008_dep_6.groupby('Interval_of_Departure').agg(count(df_2008_dep_6['Interval_of_Departure']).alias('delaycount'))\n",
        "df_2008_dep_6 = df_2008_dep_6.orderBy('Interval_of_Departure',ascending = True)\n",
        "df_2008_dep_6= df_2008_dep_6.toPandas()   \n",
        "df_2008_dep_6.plot(kind='bar',x='Interval_of_Departure', y='delaycount', legend=None, title=\"Count of Departure Delays per two hours in 2008\")\n",
        "\n"
      ],
      "metadata": {
        "colab": {
          "base_uri": "https://localhost:8080/",
          "height": 316
        },
        "id": "VG_Y-VYekcbK",
        "outputId": "2a5f68c8-c3a8-47b8-efb9-6db29522acec"
      },
      "execution_count": 27,
      "outputs": [
        {
          "output_type": "execute_result",
          "data": {
            "text/plain": [
              "<matplotlib.axes._subplots.AxesSubplot at 0x7f4d0efd2750>"
            ]
          },
          "metadata": {},
          "execution_count": 27
        },
        {
          "output_type": "display_data",
          "data": {
            "text/plain": [
              "<Figure size 432x288 with 1 Axes>"
            ],
            "image/png": "[encoded data removed]"
          },
          "metadata": {
            "needs_background": "light"
          }
        }
      ]
    },
    {
      "cell_type": "code",
      "source": [
        "#2008 Arrival delay\n",
        "\n",
        "df_2008_arr_6 = df_2008_arr_6.withColumn('Interval_of_Arrival',\n",
        "                                         when(col('CRSDepTime') < 200,'02').\n",
        "                                         when(col('CRSDepTime') < 400,'04').\\\n",
        "                                         when(col('CRSDepTime') < 600,'06').\\\n",
        "                                         when(col('CRSDepTime') < 800,'08').\\\n",
        "                                         when(col('CRSDepTime') < 1000,'10').\\\n",
        "                                         when(col('CRSDepTime') < 1200,'12').\\\n",
        "                                         when(col('CRSDepTime') < 1400,'14').\\\n",
        "                                         when(col('CRSDepTime') < 1600,'16').\\\n",
        "                                         when(col('CRSDepTime') < 1800,'18').\\\n",
        "                                         when(col('CRSDepTime') < 2000,'20').\\\n",
        "                                         when(col('CRSDepTime') < 2200,'22').\\\n",
        "                                         when(col('CRSDepTime') < 2400,'24')).select('Interval_of_Arrival')\n",
        "df_2008_arr_6 = df_2008_arr_6.groupby('Interval_of_Arrival').agg(count(df_2008_arr_6['Interval_of_Arrival']).alias('delaycount'))\n",
        "df_2008_arr_6 = df_2008_arr_6.orderBy('Interval_of_Arrival',ascending = True)\n",
        "df_2008_arr_6= df_2008_arr_6.toPandas()   \n",
        "df_2008_arr_6.plot(kind='bar',x='Interval_of_Arrival', y='delaycount', legend=None, title=\"Count of Arrival Delays per two hours in 2008\")           \n"
      ],
      "metadata": {
        "colab": {
          "base_uri": "https://localhost:8080/",
          "height": 316
        },
        "id": "wlawHv75kpBA",
        "outputId": "9e3397b6-eee1-48d3-af4f-f90e23a9e34e"
      },
      "execution_count": 28,
      "outputs": [
        {
          "output_type": "execute_result",
          "data": {
            "text/plain": [
              "<matplotlib.axes._subplots.AxesSubplot at 0x7f4d0eeee650>"
            ]
          },
          "metadata": {},
          "execution_count": 28
        },
        {
          "output_type": "display_data",
          "data": {
            "text/plain": [
              "<Figure size 432x288 with 1 Axes>"
            ],
            "image/png": "[encoded data removed]"
          },
          "metadata": {
            "needs_background": "light"
          }
        }
      ]
    },
    {
      "cell_type": "markdown",
      "source": [
        "**Q6 Answer:** As we can see from the plots above, the time 16-18 in the afternoon is the time period that has the worst arrival delay and departure delay for both years"
      ],
      "metadata": {
        "id": "93yyRmAplLIv"
      }
    }
  ]
}