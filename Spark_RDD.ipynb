{
  "cells": [
    {
      "cell_type": "markdown",
      "metadata": {
        "id": "yMFp-X64xtEo"
      },
      "source": [
        "1.Copy the file into your own directory in Google Drive"
      ]
    },
    {
      "cell_type": "code",
      "execution_count": 44,
      "metadata": {
        "id": "G5QvEKoWxwoT"
      },
      "outputs": [],
      "source": [
        "def get_gcs_data (bucket_name, folder_name, file_name, path_gdrive):\n",
        "    url = 'https://storage.googleapis.com/' + bucket_name + '/' + folder_name + '/' + file_name\n",
        "    r = requests.get(url)\n",
        "    open(path_gdrive + '/' + file_name , 'wb').write(r.content)"
      ]
    },
    {
      "cell_type": "code",
      "source": [
        "# Load the Drive helper and mount\n",
        "from google.colab import drive"
      ],
      "metadata": {
        "id": "qKXSTbl8B_tz"
      },
      "execution_count": 45,
      "outputs": []
    },
    {
      "cell_type": "code",
      "source": [
        "# This will prompt for authorization.\n",
        "drive.mount('/content/drive',force_remount = 'TRUE')"
      ],
      "metadata": {
        "colab": {
          "base_uri": "https://localhost:8080/"
        },
        "id": "DekQFRtfCAcU",
        "outputId": "15914000-bd2d-422c-8120-243e8e6ce42e"
      },
      "execution_count": 46,
      "outputs": [
        {
          "output_type": "stream",
          "name": "stdout",
          "text": [
            "Mounted at /content/drive\n"
          ]
        }
      ]
    },
    {
      "cell_type": "code",
      "execution_count": 47,
      "metadata": {
        "id": "S86kZo920ZYT"
      },
      "outputs": [],
      "source": [
        "import os\n",
        "import shutil\n",
        "from itertools import islice\n",
        "import requests"
      ]
    },
    {
      "cell_type": "code",
      "execution_count": 48,
      "metadata": {
        "colab": {
          "base_uri": "https://localhost:8080/"
        },
        "id": "_bB93b6tyDU5",
        "outputId": "85b9b87e-b634-47cc-861b-2a0a0273b2e7"
      },
      "outputs": [
        {
          "output_type": "stream",
          "name": "stdout",
          "text": [
            "Downloaded: Municipal_Court_Caseload_Information.zip\n"
          ]
        }
      ],
      "source": [
        "bucket_name = 'msca-bdp-data-open'\n",
        "folder_name = 'austin'\n",
        "file_name = ['Municipal_Court_Caseload_Information.zip']\n",
        "path_gdrive = '/content/drive/My Drive/Colab Datasets/BDP/austin'\n",
        "\n",
        "os.makedirs(path_gdrive, exist_ok=True)\n",
        "\n",
        "for file in file_name:\n",
        "    get_gcs_data (bucket_name = bucket_name,\n",
        "                 folder_name = folder_name,\n",
        "                 file_name = file,\n",
        "                 path_gdrive = path_gdrive)\n",
        "    print('Downloaded: ' + file)"
      ]
    },
    {
      "cell_type": "code",
      "source": [
        "!ls \"/content/drive/My Drive/Colab Datasets/BDP\""
      ],
      "metadata": {
        "colab": {
          "base_uri": "https://localhost:8080/"
        },
        "id": "8Hy38WcHA8OF",
        "outputId": "fb809eb3-57bd-49f3-f535-9ea98c677ff1"
      },
      "execution_count": 49,
      "outputs": [
        {
          "output_type": "stream",
          "name": "stdout",
          "text": [
            " airlines  'Copy of BDP_Class_04.1_Colab_Spark_RDD_Struct_v7.ipynb'   gutenberg\n",
            " austin    'Copy of BDP_Class_04.2_Colab_Spark_RDD_Text_v4.ipynb'     insurance\n"
          ]
        }
      ]
    },
    {
      "cell_type": "markdown",
      "metadata": {
        "id": "bb3tuhxS0rm1"
      },
      "source": [
        "2.Unzip the file"
      ]
    },
    {
      "cell_type": "code",
      "execution_count": 50,
      "metadata": {
        "id": "ZEiL1lT62Rd-"
      },
      "outputs": [],
      "source": [
        "import zipfile\n",
        "with zipfile.ZipFile(\"/content/drive/My Drive/Colab Datasets/BDP/austin/Municipal_Court_Caseload_Information.zip\",\"r\") as zip_ref:\n",
        "    zip_ref.extractall(\"/content/drive/My Drive/Colab Datasets/BDP/austin\")"
      ]
    },
    {
      "cell_type": "code",
      "execution_count": 51,
      "metadata": {
        "colab": {
          "base_uri": "https://localhost:8080/"
        },
        "id": "iLeasdqJ0q7d",
        "outputId": "7b16fae2-ae48-4dd4-e1a1-fdb10920e8fb"
      },
      "outputs": [
        {
          "output_type": "stream",
          "name": "stdout",
          "text": [
            "total 948529\n",
            "-rw------- 1 root root 877080187 Oct 27 20:07 Municipal_Court_Caseload_Information.csv\n",
            "-rw------- 1 root root  94212181 Oct 27 20:07 Municipal_Court_Caseload_Information.zip\n"
          ]
        }
      ],
      "source": [
        "# Check the content of BDP folder in GDrive\n",
        "!ls -l '/content/drive/My Drive/Colab Datasets/BDP/austin'"
      ]
    },
    {
      "cell_type": "markdown",
      "metadata": {
        "id": "qRvoXFDC3urb"
      },
      "source": [
        "3.Read the data into Spark RDD"
      ]
    },
    {
      "cell_type": "code",
      "execution_count": 52,
      "metadata": {
        "id": "eRXyjjov3yJE"
      },
      "outputs": [],
      "source": [
        "# Update environment (if needed)\n",
        "# !sudo apt update\n",
        "\n",
        "# Download and install Java\n",
        "!sudo apt-get install openjdk-8-jdk-headless -qq > /dev/null\n",
        "\n",
        "# Install Apache Spark 3.3.2 with Hadoop 3\n",
        "!wget -nc -q https://downloads.apache.org/spark/spark-3.3.1/spark-3.3.1-bin-hadoop3.tgz\n",
        "\n",
        "# Unzip the folder\n",
        "!tar xf  spark-3.3.1-bin-hadoop3.tgz\n",
        "\n",
        "# Install findspark library that will locate Spark on the system\n",
        "!pip install -q findspark"
      ]
    },
    {
      "cell_type": "code",
      "execution_count": 53,
      "metadata": {
        "id": "_yPrMgQ_5jMV"
      },
      "outputs": [],
      "source": [
        "# Setting the environment variables, to enable running PySpark in Colab environment.\n",
        "import os\n",
        "import shutil\n",
        "from itertools import islice\n",
        "import requests\n",
        "\n",
        "os.environ[\"JAVA_HOME\"] = \"/usr/lib/jvm/java-8-openjdk-amd64\"\n",
        "os.environ[\"SPARK_HOME\"] = \"/content/spark-3.3.1-bin-hadoop3\""
      ]
    },
    {
      "cell_type": "code",
      "execution_count": 54,
      "metadata": {
        "id": "c-Gfb-L65qDy"
      },
      "outputs": [],
      "source": [
        "# Locate Spark in the system\n",
        "\n",
        "import findspark"
      ]
    },
    {
      "cell_type": "code",
      "source": [
        "os.environ[\"SPARK_HOME\"] = \"/content/spark-3.3.1-bin-hadoop3\""
      ],
      "metadata": {
        "id": "ayNjvzqC0qBq"
      },
      "execution_count": 55,
      "outputs": []
    },
    {
      "cell_type": "code",
      "source": [
        "findspark.init()"
      ],
      "metadata": {
        "id": "wCVto8zj0s7Z"
      },
      "execution_count": 56,
      "outputs": []
    },
    {
      "cell_type": "code",
      "execution_count": 57,
      "metadata": {
        "colab": {
          "base_uri": "https://localhost:8080/",
          "height": 35
        },
        "id": "ZwQIg9Lx5uTR",
        "outputId": "d311a2fa-f6c3-4f24-cc0a-bcafe2c2c24f"
      },
      "outputs": [
        {
          "output_type": "execute_result",
          "data": {
            "text/plain": [
              "'3.3.1'"
            ],
            "application/vnd.google.colaboratory.intrinsic+json": {
              "type": "string"
            }
          },
          "metadata": {},
          "execution_count": 57
        }
      ],
      "source": [
        "from pyspark.sql import SparkSession\n",
        "from pyspark.sql.functions import *\n",
        "#from pyspark.sql import functions as F\n",
        "from pyspark.sql.types import *\n",
        "\n",
        "# Create spark_session\n",
        "spark = SparkSession.builder.getOrCreate()\n",
        "sc = spark.sparkContext\n",
        "\n",
        "spark.version"
      ]
    },
    {
      "cell_type": "markdown",
      "source": [
        "Read two CSV files from Google Drive and count lines. "
      ],
      "metadata": {
        "id": "jRoGUG8b1x6C"
      }
    },
    {
      "cell_type": "code",
      "execution_count": 58,
      "metadata": {
        "colab": {
          "base_uri": "https://localhost:8080/"
        },
        "id": "79OQMx46Xhgp",
        "outputId": "b094c3b6-36c1-47ec-c053-f9777250e0de"
      },
      "outputs": [
        {
          "output_type": "stream",
          "name": "stdout",
          "text": [
            "CPU times: user 180 ms, sys: 21.6 ms, total: 202 ms\n",
            "Wall time: 22.9 s\n"
          ]
        },
        {
          "output_type": "execute_result",
          "data": {
            "text/plain": [
              "8485777"
            ]
          },
          "metadata": {},
          "execution_count": 58
        }
      ],
      "source": [
        "%%time\n",
        "\n",
        "readme_raw = sc.textFile(\"file://\" + path_gdrive + \"/Municipal_Court_Caseload_Information.csv\")\n",
        "readme_raw.count()"
      ]
    },
    {
      "cell_type": "code",
      "execution_count": 59,
      "metadata": {
        "colab": {
          "base_uri": "https://localhost:8080/"
        },
        "id": "KqhrqqQe6vZE",
        "outputId": "8fe743ab-f1c4-4f87-eee2-a1afe8f945d9"
      },
      "outputs": [
        {
          "output_type": "execute_result",
          "data": {
            "text/plain": [
              "['Offense Case Type,Offense Date,Offense Time,Offense Charge Description,Offense Street Name,Offense Cross Street Check , Offense Cross Street,School Zone,Construction Zone,Case Closed',\n",
              " 'TR,04/29/2010 07:00:00 AM +0000,22.40.00,FAILED TO MAINTAIN FINANCIAL RESPONSIBILITY,8000 BLOCK RESEARCH,N, ,N,N,Y',\n",
              " 'TR,04/29/2010 07:00:00 AM +0000,22.40.00,FAILURE TO SIGNAL INTENT TO CHANGE LANES,8000 BLOCK RESEARCH,N, ,N,N,Y']"
            ]
          },
          "metadata": {},
          "execution_count": 59
        }
      ],
      "source": [
        "readme_raw.take(3)"
      ]
    },
    {
      "cell_type": "markdown",
      "metadata": {
        "id": "yeVej3va65cw"
      },
      "source": [
        "4.Ensure your process the header record correctly"
      ]
    },
    {
      "cell_type": "code",
      "execution_count": 60,
      "metadata": {
        "colab": {
          "base_uri": "https://localhost:8080/"
        },
        "id": "Giirt_Dl69XO",
        "outputId": "36ed05b4-dc27-4aca-e175-4415e14bf9d5"
      },
      "outputs": [
        {
          "output_type": "execute_result",
          "data": {
            "text/plain": [
              "8485776"
            ]
          },
          "metadata": {},
          "execution_count": 60
        }
      ],
      "source": [
        "readme_raw = sc.textFile(\"file://\" + path_gdrive + \"/Municipal_Court_Caseload_Information.csv\")\n",
        "readme = readme_raw.mapPartitionsWithIndex(lambda i, iter: islice(iter, 1, None) if i == 0 else iter) #filter out header\n",
        "readme.count()"
      ]
    },
    {
      "cell_type": "code",
      "execution_count": 61,
      "metadata": {
        "colab": {
          "base_uri": "https://localhost:8080/"
        },
        "id": "ugIOeBpL8CSJ",
        "outputId": "f4d423cc-c588-44f2-91da-2677b46302aa"
      },
      "outputs": [
        {
          "output_type": "execute_result",
          "data": {
            "text/plain": [
              "['TR,04/29/2010 07:00:00 AM +0000,22.40.00,FAILED TO MAINTAIN FINANCIAL RESPONSIBILITY,8000 BLOCK RESEARCH,N, ,N,N,Y',\n",
              " 'TR,04/29/2010 07:00:00 AM +0000,22.40.00,FAILURE TO SIGNAL INTENT TO CHANGE LANES,8000 BLOCK RESEARCH,N, ,N,N,Y',\n",
              " 'TR,04/29/2010 07:00:00 AM +0000,20.00.00,SPEEDING-STATE HIGHWAYS,1000 BLOCK NORTH U S 183,N, ,N,N,Y',\n",
              " 'TR,04/29/2010 07:00:00 AM +0000,20.00.00,NO SEAT BELT-DRIVER/PASSENGER,1000 BLOCK NORTH U S 183,N, ,N,N,Y',\n",
              " 'TR,04/29/2010 07:00:00 AM +0000,23.45.00,SPEEDING - STATE HIGHWAYS - Less than 10% over limit,1000 BLOCK RESEARCH,N, ,N,N,Y']"
            ]
          },
          "metadata": {},
          "execution_count": 61
        }
      ],
      "source": [
        "readme.take(5)"
      ]
    },
    {
      "cell_type": "markdown",
      "metadata": {
        "id": "E9bHtsfh8Pn6"
      },
      "source": [
        "5.Calculate frequency of offenses by Offense Case Type"
      ]
    },
    {
      "cell_type": "code",
      "execution_count": 62,
      "metadata": {
        "colab": {
          "base_uri": "https://localhost:8080/"
        },
        "id": "99Kah1Rn8SKx",
        "outputId": "5dbd6952-04fc-42a4-e908-fde736c79016"
      },
      "outputs": [
        {
          "output_type": "execute_result",
          "data": {
            "text/plain": [
              "[('TR', 4313221),\n",
              " ('PK', 3388981),\n",
              " ('CM', 319078),\n",
              " ('CO', 240308),\n",
              " ('RL', 224188)]"
            ]
          },
          "metadata": {},
          "execution_count": 62
        }
      ],
      "source": [
        "Case_Type = readme.map(lambda s: s.split(\",\")[0]) \n",
        "Case_Type_Frequency = Case_Type.map(lambda x: (x, 1)).reduceByKey(lambda x,y:x+y)\n",
        "Case_Type_Frequency.take(12)"
      ]
    },
    {
      "cell_type": "markdown",
      "metadata": {
        "id": "140qtKIG_DVN"
      },
      "source": [
        "6.Identify the most frequent offenses by Offense Charge Description "
      ]
    },
    {
      "cell_type": "code",
      "execution_count": 63,
      "metadata": {
        "colab": {
          "base_uri": "https://localhost:8080/"
        },
        "id": "eeoaAbHx_KR8",
        "outputId": "659b51b6-7892-4aad-86bc-f62722e55bbf"
      },
      "outputs": [
        {
          "output_type": "execute_result",
          "data": {
            "text/plain": [
              "[(892013, 'PAY STATION RECEIPT NOT DISPLAYED'),\n",
              " (732605, 'EXPIRED PAY STATION RECEIPT'),\n",
              " (486576, 'SPEEDING-STATE HIGHWAYS'),\n",
              " (372339, 'NO DRIVERS LICENSE'),\n",
              " (345162, 'SPEEDING - POSTED CITY STREET'),\n",
              " (337672, 'FAILED TO MAINTAIN FINANCIAL RESPONSIBILITY'),\n",
              " (310816, 'PARKING - EXPIRED METER'),\n",
              " (287570, 'SPEEDING - STATE HIGHWAY'),\n",
              " (260662, 'FAIL TO MAINTAIN FINANCIAL RESP'),\n",
              " (238168, 'TOW AWAY ZONE NO PARKING AREA')]"
            ]
          },
          "metadata": {},
          "execution_count": 63
        }
      ],
      "source": [
        "Offense_Description = readme.map(lambda s: s.split(\",\")[3]) \n",
        "\n",
        "Frequency = Offense_Description.map(lambda x: (x, 1)).reduceByKey(lambda x,y:x+y)\n",
        "reverse_freq = Frequency.map(lambda x:(x[1],x[0]))\n",
        "sorted_freq = reverse_freq.sortByKey(ascending=False)\n",
        "sorted_freq.take(12)"
      ]
    },
    {
      "cell_type": "markdown",
      "source": [
        "Therefore, the most frequent offenses by Offense Charge Description is 'PAY STATION RECEIPT NOT DISPLAYED' with a frquency of 892013"
      ],
      "metadata": {
        "id": "Gf1Xfjl9QxdO"
      }
    },
    {
      "cell_type": "code",
      "source": [
        "%%shell\n",
        "jupyter nbconvert --to html /content/BDP_Assignment4_Richard_Yang.ipynb"
      ],
      "metadata": {
        "id": "mqxU2rn5ByzJ"
      },
      "execution_count": 63,
      "outputs": []
    }
  ],
  "metadata": {
    "colab": {
      "provenance": [],
      "collapsed_sections": []
    },
    "kernelspec": {
      "display_name": "Python 3.9.2 64-bit",
      "language": "python",
      "name": "python3"
    },
    "language_info": {
      "codemirror_mode": {
        "name": "ipython",
        "version": 3
      },
      "file_extension": ".py",
      "mimetype": "text/x-python",
      "name": "python",
      "nbconvert_exporter": "python",
      "pygments_lexer": "ipython3",
      "version": "3.9.2"
    },
    "vscode": {
      "interpreter": {
        "hash": "4e536bfde5cd42fc1ddb45c0672dc502ba2b5d65585826a881464e34e04fe172"
      }
    }
  },
  "nbformat": 4,
  "nbformat_minor": 0
}